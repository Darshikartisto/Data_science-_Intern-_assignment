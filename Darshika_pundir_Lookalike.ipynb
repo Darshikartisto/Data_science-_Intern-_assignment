{
  "nbformat": 4,
  "nbformat_minor": 0,
  "metadata": {
    "colab": {
      "provenance": []
    },
    "kernelspec": {
      "name": "python3",
      "display_name": "Python 3"
    },
    "language_info": {
      "name": "python"
    }
  },
  "cells": [
    {
      "cell_type": "markdown",
      "source": [
        "# **Building lookalike model**"
      ],
      "metadata": {
        "id": "67DEaMPA2AOB"
      }
    },
    {
      "cell_type": "code",
      "source": [
        "import pandas as pd\n",
        "import numpy as np\n",
        "import matplotlib.pyplot as plt\n",
        "import seaborn as sns\n",
        "from sklearn.preprocessing import StandardScaler\n",
        "from sklearn.cluster import KMeans\n",
        "from sklearn.metrics import davies_bouldin_score\n",
        "from sklearn.neighbors import NearestNeighbors\n",
        "from scipy.spatial.distance import cosine\n"
      ],
      "metadata": {
        "id": "NN5DI6Q83XtI"
      },
      "execution_count": null,
      "outputs": []
    },
    {
      "cell_type": "code",
      "source": [
        "customers = pd.read_csv(\"Customers.csv\")\n",
        "products = pd.read_csv(\"Products.csv\")\n",
        "transactions = pd.read_csv(\"Transactions.csv\")"
      ],
      "metadata": {
        "id": "FOU6dLRz3cJ_"
      },
      "execution_count": null,
      "outputs": []
    },
    {
      "cell_type": "markdown",
      "source": [
        "**Feature engineering and computing similarity**"
      ],
      "metadata": {
        "id": "FzEzskd53155"
      }
    },
    {
      "cell_type": "code",
      "execution_count": null,
      "metadata": {
        "id": "bha5v3Wf1-DV"
      },
      "outputs": [],
      "source": [
        "# customer transaction history-aggregate\n",
        "customer_transactions = transactions.groupby(\"CustomerID\").agg({\"TotalValue\": \"sum\", \"TransactionID\": \"count\"}).reset_index()\n",
        "customer_transactions.rename(columns={\"TotalValue\": \"TotalSpend\", \"TransactionID\": \"TransactionCount\"}, inplace=True)\n",
        "\n",
        "customer_data = customers.merge(customer_transactions, on=\"CustomerID\", how=\"left\").fillna(0)\n",
        "scaler = StandardScaler()\n",
        "features = scaler.fit_transform(customer_data[[\"TotalSpend\", \"TransactionCount\"]])\n",
        "\n",
        "# Using Nearest Neighbors for similarity\n",
        "nbrs = NearestNeighbors(n_neighbors=4, metric=\"cosine\").fit(features)\n",
        "distances, indices = nbrs.kneighbors(features)\n"
      ]
    },
    {
      "cell_type": "markdown",
      "source": [
        "# **Generating Recommendations**"
      ],
      "metadata": {
        "id": "ekZstNma4Nl8"
      }
    },
    {
      "cell_type": "code",
      "source": [
        "lookalike_dict = {}\n",
        "\n",
        "for i in range(len(customer_data)):\n",
        "    customer_id = customer_data.iloc[i][\"CustomerID\"]\n",
        "\n",
        "    similar_customers = [customer_data.iloc[j][\"CustomerID\"] for j in indices[i][1:4]]\n",
        "    scores = [1 - distances[i][j] for j in range(1, min(4, len(indices[i])))]\n",
        "\n",
        "\n",
        "    while len(similar_customers) < 3:\n",
        "        similar_customers.append(None)\n",
        "    while len(scores) < 3:\n",
        "        scores.append(None)\n",
        "\n",
        "\n",
        "    lookalike_dict[customer_id] = similar_customers + scores\n",
        "\n",
        "\n",
        "lookalike_df = pd.DataFrame.from_dict(lookalike_dict, orient=\"index\",\n",
        "                                      columns=[\"Lookalike1\", \"Lookalike2\", \"Lookalike3\", \"Score1\", \"Score2\", \"Score3\"])\n",
        "lookalike_df.reset_index(inplace=True)\n",
        "lookalike_df.rename(columns={\"index\": \"CustomerID\"}, inplace=True)\n",
        "\n",
        "# Saving CSV file\n",
        "lookalike_df.to_csv(\"Darshika_Pundir_Lookalike.csv\", index=False)\n",
        "\n",
        "print(\"CSV file saved successfully!\")\n"
      ],
      "metadata": {
        "colab": {
          "base_uri": "https://localhost:8080/"
        },
        "id": "LLVoHn3E3WzW",
        "outputId": "f0c71aa6-d24b-4a50-898d-1cd54d47b73e"
      },
      "execution_count": null,
      "outputs": [
        {
          "output_type": "stream",
          "name": "stdout",
          "text": [
            "CSV file saved successfully!\n"
          ]
        }
      ]
    },
    {
      "cell_type": "code",
      "source": [],
      "metadata": {
        "id": "HhDAlumN4X4S"
      },
      "execution_count": null,
      "outputs": []
    }
  ]
}